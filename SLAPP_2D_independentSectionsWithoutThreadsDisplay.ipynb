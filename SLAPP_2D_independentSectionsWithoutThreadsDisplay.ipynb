{
 "cells": [
  {
   "cell_type": "markdown",
   "metadata": {},
   "source": [
    "spunto da [https://github.com/jupyterlab/jupyterlab/issues/3748](https://github.com/jupyterlab/jupyterlab/issues/3748)"
   ]
  },
  {
   "cell_type": "code",
   "execution_count": 1,
   "metadata": {
    "scrolled": false
   },
   "outputs": [],
   "source": [
    "%matplotlib inline"
   ]
  },
  {
   "cell_type": "code",
   "execution_count": 3,
   "metadata": {
    "scrolled": false
   },
   "outputs": [
    {
     "data": {
      "image/png": "[encoded data removed]",
      "text/plain": [
       "<Figure size 720x720 with 1 Axes>"
      ]
     },
     "metadata": {},
     "output_type": "display_data"
    },
    {
     "name": "stdout",
     "output_type": "stream",
     "text": [
      "end cycle 1 of the simulation\n"
     ]
    },
    {
     "data": {
      "image/png": "[encoded data removed]",
      "text/plain": [
       "<Figure size 720x720 with 1 Axes>"
      ]
     },
     "metadata": {
      "needs_background": "light"
     },
     "output_type": "display_data"
    },
    {
     "name": "stdout",
     "output_type": "stream",
     "text": [
      "end cycle 1 of the animation\n",
      "end cycle 2 of the simulation\n",
      "end cycle 2 of the animation\n",
      "end cycle 3 of the simulation\n",
      "end cycle 3 of the animation\n",
      "end cycle 4 of the simulation\n",
      "end cycle 4 of the animation\n",
      "end cycle 5 of the simulation\n",
      "end cycle 5 of the animation\n",
      "end cycle 6 of the simulation\n",
      "end cycle 6 of the animation\n",
      "end cycle 7 of the simulation\n",
      "end cycle 7 of the animation\n",
      "end cycle 8 of the simulation\n",
      "end cycle 8 of the animation\n",
      "end cycle 9 of the simulation\n",
      "end cycle 9 of the animation\n",
      "end cycle 10 of the simulation\n",
      "end cycle 10 of the animation\n"
     ]
    }
   ],
   "source": [
    "import matplotlib.pyplot as plt\n",
    "import numpy.random as npr\n",
    "\n",
    "# Create a named display, if in iPython\n",
    "myDisplay = display(None, display_id=True)\n",
    "\n",
    "agList=[]\n",
    "nAg=100\n",
    "nCycles=10\n",
    "dots=ax=fig=0 #to avoid an error of referencing without assignement\n",
    "\n",
    "\n",
    "class AgBase():\n",
    "    def __init__(self):\n",
    "        self.breed=npr.randint(0,2)\n",
    "        self.x=npr.random_sample()\n",
    "        self.y=npr.random_sample()\n",
    "    \n",
    "    def move(self):\n",
    "        self.x=npr.random_sample()\n",
    "        self.y=npr.random_sample()\n",
    "        \n",
    "    def reportPos(self):\n",
    "        return self.x, self.y\n",
    "    \n",
    "    def reportBreed(self):\n",
    "        return self.breed\n",
    "\n",
    "def update():\n",
    "    global ax\n",
    "    xList0=[]\n",
    "    yList0=[]\n",
    "    xList1=[]\n",
    "    yList1=[]\n",
    "    \n",
    "    for i in range(len(agList)):\n",
    "        x,y=agList[i].reportPos()\n",
    "        if agList[i].reportBreed() == 0:\n",
    "            xList0.append(x)\n",
    "            yList0.append(y)\n",
    "        if agList[i].reportBreed() == 1:\n",
    "            xList1.append(x)\n",
    "            yList1.append(y)\n",
    "\n",
    "    dots[0].set_data(xList0, yList0)\n",
    "    dots[1].set_data(xList1, yList1)\n",
    "\n",
    "    #ax.plot(xList0,yList0,'ro',xList1,yList1,'bo')\n",
    "            \n",
    "    \n",
    "# simulation\n",
    "def simulation(t):\n",
    "    global agList, nAG\n",
    "    if t==1:\n",
    "        # create agents\n",
    "        for i in range(nAg):\n",
    "            a=AgBase()\n",
    "            agList.append(a)\n",
    "        \n",
    "    for i in range(len(agList)):\n",
    "            agList[i].move()\n",
    "    print(\"end cycle\",t,\"of the simulation\")\n",
    "\n",
    "\n",
    "def animation(t):\n",
    "    global ax,fig,dots\n",
    "    if t==1:\n",
    "        # prepare graphic space\n",
    "        fig, ax = plt.subplots(figsize=(10, 10))\n",
    "        ax.set_xlim(0, 1)\n",
    "        ax.set_ylim(0, 1)\n",
    "        dots = ax.plot([],[],'ro',[],[],'bo')\n",
    "    \n",
    "    \"\"\"\n",
    "    # if not in iPython\n",
    "    plt.gca().cla()\n",
    "    ax.set_xlim(0,1)\n",
    "    ax.set_ylim(0,1)\n",
    "    \"\"\"\n",
    "\n",
    "    update()\n",
    "    ax.set_title(str(t))\n",
    "    #fig.canvas.draw()\n",
    "    myDisplay.update(fig)\n",
    "    plt.pause(0.5)\n",
    "    print(\"end cycle\",t,\"of the animation\")\n",
    "\n",
    "for t in range(1,nCycles+1):\n",
    "    simulation(t)\n",
    "    animation(t)"
   ]
  },
  {
   "cell_type": "code",
   "execution_count": null,
   "metadata": {},
   "outputs": [],
   "source": []
  }
 ],
 "metadata": {
  "kernelspec": {
   "display_name": "Python 3",
   "language": "python",
   "name": "python3"
  },
  "language_info": {
   "codemirror_mode": {
    "name": "ipython",
    "version": 3
   },
   "file_extension": ".py",
   "mimetype": "text/x-python",
   "name": "python",
   "nbconvert_exporter": "python",
   "pygments_lexer": "ipython3",
   "version": "3.7.2"
  }
 },
 "nbformat": 4,
 "nbformat_minor": 2
}
