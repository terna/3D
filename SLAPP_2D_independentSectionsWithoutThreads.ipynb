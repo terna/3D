{
 "cells": [
  {
   "cell_type": "code",
   "execution_count": null,
   "metadata": {
    "scrolled": false
   },
   "outputs": [],
   "source": [
    "%matplotlib notebook"
   ]
  },
  {
   "cell_type": "code",
   "execution_count": null,
   "metadata": {
    "scrolled": false
   },
   "outputs": [],
   "source": [
    "import numpy as np\n",
    "import matplotlib.pyplot as plt\n",
    "import numpy.random as npr\n",
    "\n",
    "\n",
    "agList=[]\n",
    "nAg=100\n",
    "nCycles=10\n",
    "ln=ax=fig=0 #to avoid an error of referencing without assignement\n",
    "\n",
    "\n",
    "class AgBase():\n",
    "    def __init__(self):\n",
    "        self.breed=npr.randint(0,2)\n",
    "        self.x=npr.random_sample()\n",
    "        self.y=npr.random_sample()\n",
    "    \n",
    "    def move(self):\n",
    "        self.x=npr.random_sample()\n",
    "        self.y=npr.random_sample()\n",
    "        \n",
    "    def reportPos(self):\n",
    "        return self.x, self.y\n",
    "    \n",
    "    def reportBreed(self):\n",
    "        return self.breed\n",
    "\n",
    "def update(ln):\n",
    "    global line\n",
    "    xList0=[]\n",
    "    yList0=[]\n",
    "    xList1=[]\n",
    "    yList1=[]\n",
    "    \n",
    "    for i in range(len(agList)):\n",
    "        x,y=agList[i].reportPos()\n",
    "        if agList[i].reportBreed() == 0:\n",
    "            xList0.append(x)\n",
    "            yList0.append(y)\n",
    "        if agList[i].reportBreed() == 1:\n",
    "            xList1.append(x)\n",
    "            yList1.append(y)\n",
    "\n",
    "    ax.plot(xList0,yList0,'ro',xList1,yList1,'bo')\n",
    "            \n",
    "    \n",
    "# simulation\n",
    "def simulation(t):\n",
    "    global agList, nAG\n",
    "    if t==1:\n",
    "        # create agents\n",
    "        for i in range(nAg):\n",
    "            a=AgBase()\n",
    "            agList.append(a)\n",
    "        \n",
    "    for i in range(len(agList)):\n",
    "            agList[i].move()\n",
    "    print(\"end cycle\",t,\"of the simulation\")\n",
    "\n",
    "\n",
    "def animation(t):\n",
    "    global ln,ax,fig\n",
    "    if t==1:\n",
    "        # prepare graphic space\n",
    "        fig, ax = plt.subplots()\n",
    "        ax.set_xlim(0, 1)\n",
    "        ax.set_ylim(0, 1)\n",
    "    \n",
    "    plt.gca().cla()\n",
    "    ax.set_xlim(0,1)\n",
    "    ax.set_ylim(0,1)\n",
    "\n",
    "    update(ax)\n",
    "    ax.set_title(str(t))\n",
    "    fig.canvas.draw()\n",
    "    plt.pause(0.1)\n",
    "    print(\"end cycle\",t,\"of the animation\")\n",
    "\n",
    "for t in range(1,nCycles+1):\n",
    "    simulation(t)\n",
    "    animation(t)"
   ]
  },
  {
   "cell_type": "code",
   "execution_count": null,
   "metadata": {},
   "outputs": [],
   "source": []
  }
 ],
 "metadata": {
  "kernelspec": {
   "display_name": "Python 3",
   "language": "python",
   "name": "python3"
  },
  "language_info": {
   "codemirror_mode": {
    "name": "ipython",
    "version": 3
   },
   "file_extension": ".py",
   "mimetype": "text/x-python",
   "name": "python",
   "nbconvert_exporter": "python",
   "pygments_lexer": "ipython3",
   "version": "3.7.2"
  }
 },
 "nbformat": 4,
 "nbformat_minor": 2
}
